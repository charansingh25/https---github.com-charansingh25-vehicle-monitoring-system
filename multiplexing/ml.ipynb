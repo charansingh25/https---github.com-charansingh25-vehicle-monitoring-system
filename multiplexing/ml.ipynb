{
 "cells": [
  {
   "cell_type": "markdown",
   "metadata": {},
   "source": [
    "### connecting to arduino"
   ]
  },
  {
   "cell_type": "code",
   "execution_count": 5,
   "metadata": {},
   "outputs": [
    {
     "ename": "AttributeError",
     "evalue": "module 'serial' has no attribute 'Serial'",
     "output_type": "error",
     "traceback": [
      "\u001b[1;31m---------------------------------------------------------------------------\u001b[0m",
      "\u001b[1;31mAttributeError\u001b[0m                            Traceback (most recent call last)",
      "\u001b[1;32me:\\Coding\\iot\\smart-car-exhaust-new-new\\multiplexing\\ml.ipynb Cell 2\u001b[0m line \u001b[0;36m<cell line: 4>\u001b[1;34m()\u001b[0m\n\u001b[0;32m      <a href='vscode-notebook-cell:/e%3A/Coding/iot/smart-car-exhaust-new-new/multiplexing/ml.ipynb#W2sZmlsZQ%3D%3D?line=0'>1</a>\u001b[0m \u001b[39mimport\u001b[39;00m \u001b[39mserial\u001b[39;00m\u001b[39m.\u001b[39;00m\u001b[39mtools\u001b[39;00m\u001b[39m.\u001b[39;00m\u001b[39mlist_ports\u001b[39;00m\n\u001b[0;32m      <a href='vscode-notebook-cell:/e%3A/Coding/iot/smart-car-exhaust-new-new/multiplexing/ml.ipynb#W2sZmlsZQ%3D%3D?line=2'>3</a>\u001b[0m ports \u001b[39m=\u001b[39m serial\u001b[39m.\u001b[39mtools\u001b[39m.\u001b[39mlist_ports\u001b[39m.\u001b[39mcomports()\n\u001b[1;32m----> <a href='vscode-notebook-cell:/e%3A/Coding/iot/smart-car-exhaust-new-new/multiplexing/ml.ipynb#W2sZmlsZQ%3D%3D?line=3'>4</a>\u001b[0m serialInst \u001b[39m=\u001b[39m serial\u001b[39m.\u001b[39;49mSerial()\n\u001b[0;32m      <a href='vscode-notebook-cell:/e%3A/Coding/iot/smart-car-exhaust-new-new/multiplexing/ml.ipynb#W2sZmlsZQ%3D%3D?line=5'>6</a>\u001b[0m portList \u001b[39m=\u001b[39m []\n\u001b[0;32m      <a href='vscode-notebook-cell:/e%3A/Coding/iot/smart-car-exhaust-new-new/multiplexing/ml.ipynb#W2sZmlsZQ%3D%3D?line=7'>8</a>\u001b[0m \u001b[39mfor\u001b[39;00m oneport \u001b[39min\u001b[39;00m ports:\n",
      "\u001b[1;31mAttributeError\u001b[0m: module 'serial' has no attribute 'Serial'"
     ]
    }
   ],
   "source": [
    "import serial.tools.list_ports\n",
    "\n",
    "ports = serial.tools.list_ports.comports()\n",
    "serialInst = serial.Serial()\n",
    "\n",
    "portList = []\n",
    "\n",
    "for oneport in ports:\n",
    "    portList.append(str(oneport))\n",
    "    print(str(oneport))\n",
    "\n",
    "val = input(\"select port : COM\")\n",
    "\n",
    "for x in range(0, len(portList)):\n",
    "    if portList[x].startswith(\"COM\" + str(val)):\n",
    "        portVar = \"COM\" + str(val)\n",
    "        print(portList[x])\n",
    "\n",
    "\n",
    "serialInst.baudrate = 9600\n",
    "serialInst.port = portVar\n",
    "serialInst.open()\n",
    "\n",
    "while True:\n",
    "    if serialInst.in_waiting:\n",
    "        packet = serialInst.readline()\n",
    "        print(packet.decode('utf').rstrip('\\n'))"
   ]
  }
 ],
 "metadata": {
  "kernelspec": {
   "display_name": "Python 3",
   "language": "python",
   "name": "python3"
  },
  "language_info": {
   "codemirror_mode": {
    "name": "ipython",
    "version": 3
   },
   "file_extension": ".py",
   "mimetype": "text/x-python",
   "name": "python",
   "nbconvert_exporter": "python",
   "pygments_lexer": "ipython3",
   "version": "3.10.4"
  }
 },
 "nbformat": 4,
 "nbformat_minor": 2
}
